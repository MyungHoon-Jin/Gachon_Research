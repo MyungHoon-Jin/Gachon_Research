{
 "cells": [
  {
   "cell_type": "code",
   "execution_count": 1,
   "metadata": {},
   "outputs": [],
   "source": [
    "import numpy as np\n",
    "import pandas as pd\n",
    "import matplotlib.pyplot as plt\n",
    "import matplotlib\n",
    "% matplotlib inline\n",
    "from matplotlib import font_manager, rc\n",
    "font_name = font_manager.FontProperties(fname=\"c:/Windows/Fonts/malgun.ttf\").get_name()\n",
    "rc('font', family=font_name)\n",
    "matplotlib.rcParams['axes.unicode_minus']=False"
   ]
  },
  {
   "cell_type": "code",
   "execution_count": 2,
   "metadata": {},
   "outputs": [],
   "source": [
    "from openpyxl import load_workbook"
   ]
  },
  {
   "cell_type": "code",
   "execution_count": 3,
   "metadata": {},
   "outputs": [
    {
     "data": {
      "text/html": [
       "<div>\n",
       "<style scoped>\n",
       "    .dataframe tbody tr th:only-of-type {\n",
       "        vertical-align: middle;\n",
       "    }\n",
       "\n",
       "    .dataframe tbody tr th {\n",
       "        vertical-align: top;\n",
       "    }\n",
       "\n",
       "    .dataframe thead th {\n",
       "        text-align: right;\n",
       "    }\n",
       "</style>\n",
       "<table border=\"1\" class=\"dataframe\">\n",
       "  <thead>\n",
       "    <tr style=\"text-align: right;\">\n",
       "      <th></th>\n",
       "      <th>code</th>\n",
       "      <th>iso</th>\n",
       "      <th>country</th>\n",
       "      <th>1990</th>\n",
       "      <th>1991</th>\n",
       "      <th>1992</th>\n",
       "      <th>1993</th>\n",
       "      <th>1994</th>\n",
       "      <th>1995</th>\n",
       "      <th>1996</th>\n",
       "      <th>...</th>\n",
       "      <th>2006</th>\n",
       "      <th>2007</th>\n",
       "      <th>2008</th>\n",
       "      <th>2009</th>\n",
       "      <th>2010</th>\n",
       "      <th>2011</th>\n",
       "      <th>2012</th>\n",
       "      <th>2013</th>\n",
       "      <th>2014</th>\n",
       "      <th>2015</th>\n",
       "    </tr>\n",
       "  </thead>\n",
       "  <tbody>\n",
       "    <tr>\n",
       "      <th>0</th>\n",
       "      <td>4</td>\n",
       "      <td>AFG</td>\n",
       "      <td>Afghanistan</td>\n",
       "      <td>-9999.0000</td>\n",
       "      <td>-9999.0000</td>\n",
       "      <td>-9999.0000</td>\n",
       "      <td>-9999.0000</td>\n",
       "      <td>-9999.0000</td>\n",
       "      <td>-9999.0000</td>\n",
       "      <td>-9999.0000</td>\n",
       "      <td>...</td>\n",
       "      <td>-9999.0000</td>\n",
       "      <td>-9999.0000</td>\n",
       "      <td>-9999.0000</td>\n",
       "      <td>-9999.0000</td>\n",
       "      <td>-9999.0000</td>\n",
       "      <td>-9999.0000</td>\n",
       "      <td>-9999.0000</td>\n",
       "      <td>-9999.0000</td>\n",
       "      <td>-9999.0000</td>\n",
       "      <td>-9999.0000</td>\n",
       "    </tr>\n",
       "    <tr>\n",
       "      <th>1</th>\n",
       "      <td>8</td>\n",
       "      <td>ALB</td>\n",
       "      <td>Albania</td>\n",
       "      <td>0.0000</td>\n",
       "      <td>0.0000</td>\n",
       "      <td>0.0000</td>\n",
       "      <td>0.0000</td>\n",
       "      <td>0.0000</td>\n",
       "      <td>0.0000</td>\n",
       "      <td>0.3830</td>\n",
       "      <td>...</td>\n",
       "      <td>0.8138</td>\n",
       "      <td>0.8138</td>\n",
       "      <td>0.8138</td>\n",
       "      <td>0.8138</td>\n",
       "      <td>0.8138</td>\n",
       "      <td>0.8138</td>\n",
       "      <td>0.8138</td>\n",
       "      <td>0.8138</td>\n",
       "      <td>0.8138</td>\n",
       "      <td>0.8138</td>\n",
       "    </tr>\n",
       "    <tr>\n",
       "      <th>2</th>\n",
       "      <td>12</td>\n",
       "      <td>DZA</td>\n",
       "      <td>Algeria</td>\n",
       "      <td>0.0175</td>\n",
       "      <td>0.0175</td>\n",
       "      <td>0.0175</td>\n",
       "      <td>0.0175</td>\n",
       "      <td>0.0175</td>\n",
       "      <td>0.0175</td>\n",
       "      <td>0.0175</td>\n",
       "      <td>...</td>\n",
       "      <td>0.0376</td>\n",
       "      <td>0.0376</td>\n",
       "      <td>0.0376</td>\n",
       "      <td>0.0376</td>\n",
       "      <td>0.0376</td>\n",
       "      <td>0.0376</td>\n",
       "      <td>0.0381</td>\n",
       "      <td>0.0381</td>\n",
       "      <td>0.0381</td>\n",
       "      <td>0.0381</td>\n",
       "    </tr>\n",
       "    <tr>\n",
       "      <th>3</th>\n",
       "      <td>16</td>\n",
       "      <td>ASM</td>\n",
       "      <td>American Samoa</td>\n",
       "      <td>8.6824</td>\n",
       "      <td>8.6824</td>\n",
       "      <td>8.6824</td>\n",
       "      <td>8.6824</td>\n",
       "      <td>8.6824</td>\n",
       "      <td>8.6824</td>\n",
       "      <td>8.6824</td>\n",
       "      <td>...</td>\n",
       "      <td>8.6824</td>\n",
       "      <td>8.6824</td>\n",
       "      <td>8.6824</td>\n",
       "      <td>8.6824</td>\n",
       "      <td>8.6840</td>\n",
       "      <td>8.6840</td>\n",
       "      <td>8.6840</td>\n",
       "      <td>8.6840</td>\n",
       "      <td>8.6840</td>\n",
       "      <td>8.6840</td>\n",
       "    </tr>\n",
       "    <tr>\n",
       "      <th>4</th>\n",
       "      <td>20</td>\n",
       "      <td>AND</td>\n",
       "      <td>Andorra</td>\n",
       "      <td>-9999.0000</td>\n",
       "      <td>-9999.0000</td>\n",
       "      <td>-9999.0000</td>\n",
       "      <td>-9999.0000</td>\n",
       "      <td>-9999.0000</td>\n",
       "      <td>-9999.0000</td>\n",
       "      <td>-9999.0000</td>\n",
       "      <td>...</td>\n",
       "      <td>-9999.0000</td>\n",
       "      <td>-9999.0000</td>\n",
       "      <td>-9999.0000</td>\n",
       "      <td>-9999.0000</td>\n",
       "      <td>-9999.0000</td>\n",
       "      <td>-9999.0000</td>\n",
       "      <td>-9999.0000</td>\n",
       "      <td>-9999.0000</td>\n",
       "      <td>-9999.0000</td>\n",
       "      <td>-9999.0000</td>\n",
       "    </tr>\n",
       "  </tbody>\n",
       "</table>\n",
       "<p>5 rows × 29 columns</p>\n",
       "</div>"
      ],
      "text/plain": [
       "   code  iso         country       1990       1991       1992       1993  \\\n",
       "0     4  AFG     Afghanistan -9999.0000 -9999.0000 -9999.0000 -9999.0000   \n",
       "1     8  ALB         Albania     0.0000     0.0000     0.0000     0.0000   \n",
       "2    12  DZA         Algeria     0.0175     0.0175     0.0175     0.0175   \n",
       "3    16  ASM  American Samoa     8.6824     8.6824     8.6824     8.6824   \n",
       "4    20  AND         Andorra -9999.0000 -9999.0000 -9999.0000 -9999.0000   \n",
       "\n",
       "        1994       1995       1996    ...           2006       2007  \\\n",
       "0 -9999.0000 -9999.0000 -9999.0000    ...     -9999.0000 -9999.0000   \n",
       "1     0.0000     0.0000     0.3830    ...         0.8138     0.8138   \n",
       "2     0.0175     0.0175     0.0175    ...         0.0376     0.0376   \n",
       "3     8.6824     8.6824     8.6824    ...         8.6824     8.6824   \n",
       "4 -9999.0000 -9999.0000 -9999.0000    ...     -9999.0000 -9999.0000   \n",
       "\n",
       "        2008       2009       2010       2011       2012       2013  \\\n",
       "0 -9999.0000 -9999.0000 -9999.0000 -9999.0000 -9999.0000 -9999.0000   \n",
       "1     0.8138     0.8138     0.8138     0.8138     0.8138     0.8138   \n",
       "2     0.0376     0.0376     0.0376     0.0376     0.0381     0.0381   \n",
       "3     8.6824     8.6824     8.6840     8.6840     8.6840     8.6840   \n",
       "4 -9999.0000 -9999.0000 -9999.0000 -9999.0000 -9999.0000 -9999.0000   \n",
       "\n",
       "        2014       2015  \n",
       "0 -9999.0000 -9999.0000  \n",
       "1     0.8138     0.8138  \n",
       "2     0.0381     0.0381  \n",
       "3     8.6840     8.6840  \n",
       "4 -9999.0000 -9999.0000  \n",
       "\n",
       "[5 rows x 29 columns]"
      ]
     },
     "execution_count": 3,
     "metadata": {},
     "output_type": "execute_result"
    }
   ],
   "source": [
    "wb = load_workbook(\"marin.xlsx\")\n",
    "ws = wb['Sheet1']\n",
    "g = ws.rows\n",
    "cells = next(g)\n",
    "keys = [cell.value for cell in cells]\n",
    "raw_data = []\n",
    "for row in g:\n",
    "    raw_data.append({ key : cell.value for key, cell in zip(keys, row)})\n",
    "df = pd.DataFrame(raw_data)\n",
    "a = [i for i in range(1990,2016)]\n",
    "a.extend([\"code\", \"country\", \"iso\"])\n",
    "df.columns = a\n",
    "li = [i for i in range(1990,2016)]\n",
    "li.insert(0, 'country')\n",
    "li.insert(0, 'iso')\n",
    "li.insert(0, 'code')\n",
    "df = df[li]\n",
    "df.head()"
   ]
  },
  {
   "cell_type": "code",
   "execution_count": 4,
   "metadata": {},
   "outputs": [
    {
     "data": {
      "text/html": [
       "<div>\n",
       "<style scoped>\n",
       "    .dataframe tbody tr th:only-of-type {\n",
       "        vertical-align: middle;\n",
       "    }\n",
       "\n",
       "    .dataframe tbody tr th {\n",
       "        vertical-align: top;\n",
       "    }\n",
       "\n",
       "    .dataframe thead th {\n",
       "        text-align: right;\n",
       "    }\n",
       "</style>\n",
       "<table border=\"1\" class=\"dataframe\">\n",
       "  <thead>\n",
       "    <tr style=\"text-align: right;\">\n",
       "      <th></th>\n",
       "      <th>Code</th>\n",
       "      <th>Economy</th>\n",
       "      <th>Income group</th>\n",
       "      <th>Region</th>\n",
       "    </tr>\n",
       "  </thead>\n",
       "  <tbody>\n",
       "    <tr>\n",
       "      <th>0</th>\n",
       "      <td>AFG</td>\n",
       "      <td>Afghanistan</td>\n",
       "      <td>Low income</td>\n",
       "      <td>South Asia</td>\n",
       "    </tr>\n",
       "    <tr>\n",
       "      <th>1</th>\n",
       "      <td>ALB</td>\n",
       "      <td>Albania</td>\n",
       "      <td>Upper middle income</td>\n",
       "      <td>Europe &amp; Central Asia</td>\n",
       "    </tr>\n",
       "    <tr>\n",
       "      <th>2</th>\n",
       "      <td>DZA</td>\n",
       "      <td>Algeria</td>\n",
       "      <td>Upper middle income</td>\n",
       "      <td>Middle East &amp; North Africa</td>\n",
       "    </tr>\n",
       "    <tr>\n",
       "      <th>3</th>\n",
       "      <td>ASM</td>\n",
       "      <td>American Samoa</td>\n",
       "      <td>Upper middle income</td>\n",
       "      <td>East Asia &amp; Pacific</td>\n",
       "    </tr>\n",
       "    <tr>\n",
       "      <th>4</th>\n",
       "      <td>AND</td>\n",
       "      <td>Andorra</td>\n",
       "      <td>High income</td>\n",
       "      <td>Europe &amp; Central Asia</td>\n",
       "    </tr>\n",
       "  </tbody>\n",
       "</table>\n",
       "</div>"
      ],
      "text/plain": [
       "  Code         Economy         Income group                      Region\n",
       "0  AFG     Afghanistan           Low income                  South Asia\n",
       "1  ALB         Albania  Upper middle income       Europe & Central Asia\n",
       "2  DZA         Algeria  Upper middle income  Middle East & North Africa\n",
       "3  ASM  American Samoa  Upper middle income         East Asia & Pacific\n",
       "4  AND         Andorra          High income       Europe & Central Asia"
      ]
     },
     "execution_count": 4,
     "metadata": {},
     "output_type": "execute_result"
    }
   ],
   "source": [
    "wb = load_workbook(\"worldbank.xlsx\")\n",
    "ws = wb.active\n",
    "g = ws.rows\n",
    "cells = next(g)\n",
    "keys = [cell.value for cell in cells]\n",
    "raw_data = []\n",
    "for row in g:\n",
    "    raw_data.append({ key : cell.value for key, cell in zip(keys, row)})\n",
    "bank = pd.DataFrame(raw_data)\n",
    "bank.head()"
   ]
  },
  {
   "cell_type": "code",
   "execution_count": 5,
   "metadata": {
    "scrolled": false
   },
   "outputs": [],
   "source": [
    "mpa = pd.merge(df, bank[['Code','Income group', 'Region']], left_on = 'iso', right_on = 'Code')"
   ]
  },
  {
   "cell_type": "code",
   "execution_count": 6,
   "metadata": {},
   "outputs": [
    {
     "data": {
      "text/plain": [
       "(18,\n",
       " array({'Svalbard and Jan Mayen Islands', 'Holy See', 'Saint Helena', 'Niue', 'Montserrat', 'Tokelau', 'Martinique', 'Reunion', 'Falkland Islands', 'Anguilla', 'Mayotte', 'Norfolk Island', 'French Guiana', 'Saint Pierre and Miquelon', 'Guadeloupe', 'Cook Islands', 'Pitcairn', 'Wallis and Futuna'},\n",
       "       dtype=object))"
      ]
     },
     "execution_count": 6,
     "metadata": {},
     "output_type": "execute_result"
    }
   ],
   "source": [
    "mismatching_country = set(df.country) - set(mpa.country)\n",
    "len(mismatching_country), np.array(mismatching_country)"
   ]
  },
  {
   "cell_type": "code",
   "execution_count": 7,
   "metadata": {},
   "outputs": [
    {
     "data": {
      "text/html": [
       "<div>\n",
       "<style scoped>\n",
       "    .dataframe tbody tr th:only-of-type {\n",
       "        vertical-align: middle;\n",
       "    }\n",
       "\n",
       "    .dataframe tbody tr th {\n",
       "        vertical-align: top;\n",
       "    }\n",
       "\n",
       "    .dataframe thead th {\n",
       "        text-align: right;\n",
       "    }\n",
       "</style>\n",
       "<table border=\"1\" class=\"dataframe\">\n",
       "  <thead>\n",
       "    <tr style=\"text-align: right;\">\n",
       "      <th></th>\n",
       "      <th>code</th>\n",
       "      <th>iso</th>\n",
       "      <th>country</th>\n",
       "      <th>1990</th>\n",
       "      <th>1991</th>\n",
       "      <th>1992</th>\n",
       "      <th>1993</th>\n",
       "      <th>1994</th>\n",
       "      <th>1995</th>\n",
       "      <th>1996</th>\n",
       "      <th>...</th>\n",
       "      <th>2009</th>\n",
       "      <th>2010</th>\n",
       "      <th>2011</th>\n",
       "      <th>2012</th>\n",
       "      <th>2013</th>\n",
       "      <th>2014</th>\n",
       "      <th>2015</th>\n",
       "      <th>Code</th>\n",
       "      <th>Income group</th>\n",
       "      <th>Region</th>\n",
       "    </tr>\n",
       "  </thead>\n",
       "  <tbody>\n",
       "    <tr>\n",
       "      <th>0</th>\n",
       "      <td>4</td>\n",
       "      <td>AFG</td>\n",
       "      <td>Afghanistan</td>\n",
       "      <td>-9999.0</td>\n",
       "      <td>-9999.0</td>\n",
       "      <td>-9999.0</td>\n",
       "      <td>-9999.0</td>\n",
       "      <td>-9999.0</td>\n",
       "      <td>-9999.0</td>\n",
       "      <td>-9999.000</td>\n",
       "      <td>...</td>\n",
       "      <td>-9999.0000</td>\n",
       "      <td>-9999.0000</td>\n",
       "      <td>-9999.0000</td>\n",
       "      <td>-9999.0000</td>\n",
       "      <td>-9999.0000</td>\n",
       "      <td>-9999.0000</td>\n",
       "      <td>-9999.0000</td>\n",
       "      <td>AFG</td>\n",
       "      <td>Low income</td>\n",
       "      <td>South Asia</td>\n",
       "    </tr>\n",
       "    <tr>\n",
       "      <th>1</th>\n",
       "      <td>8</td>\n",
       "      <td>ALB</td>\n",
       "      <td>Albania</td>\n",
       "      <td>0.0</td>\n",
       "      <td>0.0</td>\n",
       "      <td>0.0</td>\n",
       "      <td>0.0</td>\n",
       "      <td>0.0</td>\n",
       "      <td>0.0</td>\n",
       "      <td>0.383</td>\n",
       "      <td>...</td>\n",
       "      <td>0.8138</td>\n",
       "      <td>0.8138</td>\n",
       "      <td>0.8138</td>\n",
       "      <td>0.8138</td>\n",
       "      <td>0.8138</td>\n",
       "      <td>0.8138</td>\n",
       "      <td>0.8138</td>\n",
       "      <td>ALB</td>\n",
       "      <td>Upper middle income</td>\n",
       "      <td>Europe &amp; Central Asia</td>\n",
       "    </tr>\n",
       "  </tbody>\n",
       "</table>\n",
       "<p>2 rows × 32 columns</p>\n",
       "</div>"
      ],
      "text/plain": [
       "   code  iso      country    1990    1991    1992    1993    1994    1995  \\\n",
       "0     4  AFG  Afghanistan -9999.0 -9999.0 -9999.0 -9999.0 -9999.0 -9999.0   \n",
       "1     8  ALB      Albania     0.0     0.0     0.0     0.0     0.0     0.0   \n",
       "\n",
       "       1996          ...                 2009       2010       2011  \\\n",
       "0 -9999.000          ...           -9999.0000 -9999.0000 -9999.0000   \n",
       "1     0.383          ...               0.8138     0.8138     0.8138   \n",
       "\n",
       "        2012       2013       2014       2015  Code         Income group  \\\n",
       "0 -9999.0000 -9999.0000 -9999.0000 -9999.0000   AFG           Low income   \n",
       "1     0.8138     0.8138     0.8138     0.8138   ALB  Upper middle income   \n",
       "\n",
       "                  Region  \n",
       "0             South Asia  \n",
       "1  Europe & Central Asia  \n",
       "\n",
       "[2 rows x 32 columns]"
      ]
     },
     "execution_count": 7,
     "metadata": {},
     "output_type": "execute_result"
    }
   ],
   "source": [
    "mpa.head(n=2)"
   ]
  },
  {
   "cell_type": "code",
   "execution_count": 8,
   "metadata": {},
   "outputs": [],
   "source": [
    "except_9999 = mpa[mpa[mpa.columns[3:]].mean(axis=1) < -5000]\n",
    "except_9999_list = except_9999.country.values"
   ]
  },
  {
   "cell_type": "code",
   "execution_count": 9,
   "metadata": {},
   "outputs": [
    {
     "data": {
      "text/plain": [
       "(47, array(['Afghanistan', 'Andorra', 'Armenia', 'Aruba', 'Austria', 'Belarus',\n",
       "        'Bhutan', 'Bolivia', 'Botswana', 'Burkina Faso', 'Burundi',\n",
       "        'Central African Republic', 'Chad', 'Curacao', 'Czech Republic',\n",
       "        'Ethiopia', 'Guam', 'Hong Kong', 'Hungary', 'Isle of Man',\n",
       "        'Kyrgyz Republic', 'Laos', 'Lesotho', 'Liechtenstein',\n",
       "        'Luxembourg', 'Macao', 'Macedonia', 'Malawi', 'Mali', 'Moldova',\n",
       "        'Mongolia', 'Nepal', 'Niger', 'Paraguay', 'Rwanda', 'San Marino',\n",
       "        'Serbia', 'Slovakia', 'South Sudan', 'Palestine', 'Swaziland',\n",
       "        'Switzerland', 'Tajikistan', 'Uganda', 'Uzbekistan', 'Zambia',\n",
       "        'Zimbabwe'], dtype=object))"
      ]
     },
     "execution_count": 9,
     "metadata": {},
     "output_type": "execute_result"
    }
   ],
   "source": [
    "len(except_9999_list), except_9999_list"
   ]
  },
  {
   "cell_type": "code",
   "execution_count": 10,
   "metadata": {},
   "outputs": [],
   "source": [
    "mpa = mpa[mpa[mpa.columns[3:]].mean(axis=1) > -5000]"
   ]
  },
  {
   "cell_type": "code",
   "execution_count": 11,
   "metadata": {},
   "outputs": [],
   "source": [
    "import sys\n",
    "ep = sys.float_info.epsilon"
   ]
  },
  {
   "cell_type": "code",
   "execution_count": 12,
   "metadata": {},
   "outputs": [],
   "source": [
    "except_0 = mpa[mpa[mpa.columns[3:]].mean(axis=1) < ep]\n",
    "except_0_list = except_0.country.values"
   ]
  },
  {
   "cell_type": "code",
   "execution_count": 13,
   "metadata": {},
   "outputs": [
    {
     "data": {
      "text/plain": [
       "(17, array(['Azerbaijan', 'Benin', 'Bosnia and Herzegovina', 'Cape Verde',\n",
       "        'Cyprus', 'Eritrea', 'The Gambia', 'Guyana', 'Haiti', 'Iraq',\n",
       "        'Kazakhstan', 'Montenegro', 'Nauru', 'North Korea', 'Somalia',\n",
       "        'Togo', 'Turkmenistan'], dtype=object))"
      ]
     },
     "execution_count": 13,
     "metadata": {},
     "output_type": "execute_result"
    }
   ],
   "source": [
    "len(except_0_list), except_0_list"
   ]
  },
  {
   "cell_type": "code",
   "execution_count": 14,
   "metadata": {},
   "outputs": [],
   "source": [
    "mpa = mpa[mpa[mpa.columns[3:]].mean(axis=1) > ep]"
   ]
  },
  {
   "cell_type": "code",
   "execution_count": 15,
   "metadata": {
    "scrolled": false
   },
   "outputs": [
    {
     "data": {
      "text/plain": [
       "151"
      ]
     },
     "execution_count": 15,
     "metadata": {},
     "output_type": "execute_result"
    }
   ],
   "source": [
    "len(mpa)"
   ]
  },
  {
   "cell_type": "code",
   "execution_count": 16,
   "metadata": {},
   "outputs": [],
   "source": [
    "import convergence"
   ]
  },
  {
   "cell_type": "code",
   "execution_count": 17,
   "metadata": {
    "collapsed": true
   },
   "outputs": [
    {
     "name": "stdout",
     "output_type": "stream",
     "text": [
      "Version 1.0.0\n",
      "Welcome. This Class works for ConvergenceAnalysis.\n",
      "You can access dataframe by these METHODS\n",
      "  : df, t_df\n",
      "also, You can access as pd.Series by these METHODS\n",
      "  : mean, var, std, cv, sigma, std_s, cv_s (_s means, \"sample\")\n",
      "    rank_var, gamma_var, gamma\n",
      "and You can access as pd.DataFrame by thes METHODS\n",
      "  : df_rank, df_gamma\n",
      "Finally, You can get three CAGR by these METHODS\n",
      "  : mean_cagr, sigma_cagr, gamma_cagr\n",
      "\n",
      "This Class has 4 Functions following as\n",
      "  : t_test(alpha=0.05, r=0), chi_square_test(r=0)\n",
      "    get_measure_table(name, measure), get_index_table(name)\n"
     ]
    }
   ],
   "source": [
    "ca = convergence.ConvergenceAnalysis(mpa)"
   ]
  },
  {
   "cell_type": "code",
   "execution_count": 18,
   "metadata": {},
   "outputs": [],
   "source": [
    "mpa2 = mpa[mpa[mpa.columns[3:]].mean(axis=1) > 0.1]\n",
    "mpa3 = mpa[mpa[mpa.columns[3:]].mean(axis=1) > 0.5]\n",
    "tdf = pd.read_csv(\"marine.csv\")\n",
    "lie = li[3:]\n",
    "lie.insert(0, \"country\")\n",
    "tdf.columns = lie"
   ]
  },
  {
   "cell_type": "code",
   "execution_count": 19,
   "metadata": {
    "collapsed": true
   },
   "outputs": [
    {
     "name": "stdout",
     "output_type": "stream",
     "text": [
      "Version 1.0.0\n",
      "Welcome. This Class works for ConvergenceAnalysis.\n",
      "You can access dataframe by these METHODS\n",
      "  : df, t_df\n",
      "also, You can access as pd.Series by these METHODS\n",
      "  : mean, var, std, cv, sigma, std_s, cv_s (_s means, \"sample\")\n",
      "    rank_var, gamma_var, gamma\n",
      "and You can access as pd.DataFrame by thes METHODS\n",
      "  : df_rank, df_gamma\n",
      "Finally, You can get three CAGR by these METHODS\n",
      "  : mean_cagr, sigma_cagr, gamma_cagr\n",
      "\n",
      "This Class has 4 Functions following as\n",
      "  : t_test(alpha=0.05, r=0), chi_square_test(r=0)\n",
      "    get_measure_table(name, measure), get_index_table(name)\n"
     ]
    }
   ],
   "source": [
    "tdf = pd.read_csv(\"101.csv\")\n",
    "lie = li[3:]\n",
    "lie.insert(0, \"country\")\n",
    "tdf.columns = lie\n",
    "ca4 = convergence.ConvergenceAnalysis(tdf)"
   ]
  },
  {
   "cell_type": "code",
   "execution_count": 20,
   "metadata": {
    "collapsed": true
   },
   "outputs": [
    {
     "name": "stdout",
     "output_type": "stream",
     "text": [
      "Version 1.0.0\n",
      "Welcome. This Class works for ConvergenceAnalysis.\n",
      "You can access dataframe by these METHODS\n",
      "  : df, t_df\n",
      "also, You can access as pd.Series by these METHODS\n",
      "  : mean, var, std, cv, sigma, std_s, cv_s (_s means, \"sample\")\n",
      "    rank_var, gamma_var, gamma\n",
      "and You can access as pd.DataFrame by thes METHODS\n",
      "  : df_rank, df_gamma\n",
      "Finally, You can get three CAGR by these METHODS\n",
      "  : mean_cagr, sigma_cagr, gamma_cagr\n",
      "\n",
      "This Class has 4 Functions following as\n",
      "  : t_test(alpha=0.05, r=0), chi_square_test(r=0)\n",
      "    get_measure_table(name, measure), get_index_table(name)\n",
      "Version 1.0.0\n",
      "Welcome. This Class works for ConvergenceAnalysis.\n",
      "You can access dataframe by these METHODS\n",
      "  : df, t_df\n",
      "also, You can access as pd.Series by these METHODS\n",
      "  : mean, var, std, cv, sigma, std_s, cv_s (_s means, \"sample\")\n",
      "    rank_var, gamma_var, gamma\n",
      "and You can access as pd.DataFrame by thes METHODS\n",
      "  : df_rank, df_gamma\n",
      "Finally, You can get three CAGR by these METHODS\n",
      "  : mean_cagr, sigma_cagr, gamma_cagr\n",
      "\n",
      "This Class has 4 Functions following as\n",
      "  : t_test(alpha=0.05, r=0), chi_square_test(r=0)\n",
      "    get_measure_table(name, measure), get_index_table(name)\n",
      "Version 1.0.0\n",
      "Welcome. This Class works for ConvergenceAnalysis.\n",
      "You can access dataframe by these METHODS\n",
      "  : df, t_df\n",
      "also, You can access as pd.Series by these METHODS\n",
      "  : mean, var, std, cv, sigma, std_s, cv_s (_s means, \"sample\")\n",
      "    rank_var, gamma_var, gamma\n",
      "and You can access as pd.DataFrame by thes METHODS\n",
      "  : df_rank, df_gamma\n",
      "Finally, You can get three CAGR by these METHODS\n",
      "  : mean_cagr, sigma_cagr, gamma_cagr\n",
      "\n",
      "This Class has 4 Functions following as\n",
      "  : t_test(alpha=0.05, r=0), chi_square_test(r=0)\n",
      "    get_measure_table(name, measure), get_index_table(name)\n"
     ]
    }
   ],
   "source": [
    "ca1 = convergence.ConvergenceAnalysis(mpa2)\n",
    "ca2 = convergence.ConvergenceAnalysis(mpa3)\n",
    "ca3 = convergence.ConvergenceAnalysis(tdf)"
   ]
  },
  {
   "cell_type": "code",
   "execution_count": 21,
   "metadata": {
    "scrolled": true
   },
   "outputs": [
    {
     "data": {
      "text/plain": [
       "<matplotlib.axes._subplots.AxesSubplot at 0x1e7c5d698d0>"
      ]
     },
     "execution_count": 21,
     "metadata": {},
     "output_type": "execute_result"
    },
    {
     "data": {
      "image/png": "[encoded data removed]",
      "text/plain": [
       "<matplotlib.figure.Figure at 0x1e7c5d69320>"
      ]
     },
     "metadata": {},
     "output_type": "display_data"
    }
   ],
   "source": [
    "pd.concat((ca2.mean, ca1.mean, ca.mean, ca3.mean, ca4.mean),axis=1, \n",
    "          keys=[\"{} countries\\nCAGR = {}%\".format(ca2.dof+1, round(ca2.mean_cagr*100,2)),\n",
    "                \"{} countries\\nCAGR = {}%\".format(ca1.dof+1, round(ca1.mean_cagr*100,2)),\n",
    "                \"{} countries\\nCAGR = {}%\".format(ca.dof+1, round(ca.mean_cagr*100,2)),\n",
    "                \"{} countries\\nCAGR = {}%\".format(ca3.dof+1, round(ca3.mean_cagr*100,2)),\n",
    "                \"{} countries\\nCAGR = {}%\".format(ca4.dof+1, round(ca4.mean_cagr*100,2))]).plot(\n",
    "    figsize=(7,4), grid=True, marker=\"o\")"
   ]
  },
  {
   "cell_type": "code",
   "execution_count": 22,
   "metadata": {},
   "outputs": [
    {
     "data": {
      "text/plain": [
       "<matplotlib.axes._subplots.AxesSubplot at 0x1e7c60beb00>"
      ]
     },
     "execution_count": 22,
     "metadata": {},
     "output_type": "execute_result"
    },
    {
     "data": {
      "image/png": "[encoded data removed]",
      "text/plain": [
       "<matplotlib.figure.Figure at 0x1e7c60be518>"
      ]
     },
     "metadata": {},
     "output_type": "display_data"
    }
   ],
   "source": [
    "pd.concat((ca2.sigma, ca1.sigma, ca.sigma, ca3.sigma, ca4.sigma),axis=1, \n",
    "          keys=[\"{} countries\\nCAGR = {}%\".format(ca2.dof+1, round(ca2.sigma_cagr*100,2)),\n",
    "                \"{} countries\\nCAGR = {}%\".format(ca1.dof+1, round(ca1.sigma_cagr*100,2)),\n",
    "                \"{} countries\\nCAGR = {}%\".format(ca.dof+1, round(ca.sigma_cagr*100,2)),\n",
    "                \"{} countries\\nCAGR = {}%\".format(ca3.dof+1, round(ca3.sigma_cagr*100,2)),\n",
    "                \"{} countries\\nCAGR = {}%\".format(ca4.dof+1, round(ca4.sigma_cagr*100,2))]).plot(\n",
    "    figsize=(7,4), grid=True, marker=\"o\")"
   ]
  },
  {
   "cell_type": "code",
   "execution_count": 23,
   "metadata": {},
   "outputs": [
    {
     "data": {
      "text/plain": [
       "<matplotlib.axes._subplots.AxesSubplot at 0x1e7c614edd8>"
      ]
     },
     "execution_count": 23,
     "metadata": {},
     "output_type": "execute_result"
    },
    {
     "data": {
      "image/png": "[encoded data removed]",
      "text/plain": [
       "<matplotlib.figure.Figure at 0x1e7c614e320>"
      ]
     },
     "metadata": {},
     "output_type": "display_data"
    }
   ],
   "source": [
    "pd.concat((ca2.gamma, ca1.gamma, ca.gamma, ca3.gamma, ca4.gamma),axis=1, \n",
    "          keys=[\"{} countries\\nCAGR = {}%\".format(ca2.dof+1, round(ca2.gamma_cagr*100,2)),\n",
    "                \"{} countries\\nCAGR = {}%\".format(ca1.dof+1, round(ca1.gamma_cagr*100,2)),\n",
    "                \"{} countries\\nCAGR = {}%\".format(ca.dof+1, round(ca.gamma_cagr*100,2)),\n",
    "                \"{} countries\\nCAGR = {}%\".format(ca3.dof+1, round(ca3.gamma_cagr*100,2)),\n",
    "                \"{} countries\\nCAGR = {}%\".format(ca4.dof+1, round(ca4.gamma_cagr*100,2))]).plot(\n",
    "    figsize=(7,4), grid=True, marker=\"o\")"
   ]
  },
  {
   "cell_type": "code",
   "execution_count": null,
   "metadata": {},
   "outputs": [],
   "source": []
  },
  {
   "cell_type": "code",
   "execution_count": 24,
   "metadata": {},
   "outputs": [],
   "source": [
    "df_88 = pd.read_csv(\"marine.csv\")\n",
    "df_101 = pd.read_csv(\"101.csv\")\n",
    "df_104 = mpa2.copy()"
   ]
  },
  {
   "cell_type": "code",
   "execution_count": 38,
   "metadata": {},
   "outputs": [
    {
     "data": {
      "text/plain": [
       "13"
      ]
     },
     "execution_count": 38,
     "metadata": {},
     "output_type": "execute_result"
    }
   ],
   "source": [
    "len(set(df_101.country) - set(df_88.country))"
   ]
  },
  {
   "cell_type": "code",
   "execution_count": 39,
   "metadata": {},
   "outputs": [
    {
     "data": {
      "text/plain": [
       "36"
      ]
     },
     "execution_count": 39,
     "metadata": {},
     "output_type": "execute_result"
    }
   ],
   "source": [
    "len(set(df_104.country) - set(df_88.country))"
   ]
  },
  {
   "cell_type": "code",
   "execution_count": 40,
   "metadata": {},
   "outputs": [
    {
     "data": {
      "text/plain": [
       "24"
      ]
     },
     "execution_count": 40,
     "metadata": {},
     "output_type": "execute_result"
    }
   ],
   "source": [
    "len(set(df_104.country) - set(df_101.country))"
   ]
  },
  {
   "cell_type": "code",
   "execution_count": 46,
   "metadata": {},
   "outputs": [
    {
     "data": {
      "text/plain": [
       "{'Algeria',\n",
       " 'Angola',\n",
       " 'Antigua and Barbuda',\n",
       " 'Barbados',\n",
       " 'Bermuda',\n",
       " 'British Virgin Islands',\n",
       " 'Brunei Darussalam',\n",
       " 'Bulgaria',\n",
       " 'Cambodia',\n",
       " 'Cayman Islands',\n",
       " 'Comoros',\n",
       " \"Cote d'Ivoire\",\n",
       " 'Djibouti',\n",
       " 'Dominica',\n",
       " 'Faeroe Islands',\n",
       " 'French Polynesia',\n",
       " 'Ghana',\n",
       " 'Grenada',\n",
       " 'Iceland',\n",
       " 'Israel',\n",
       " 'Kuwait',\n",
       " 'Lebanon',\n",
       " 'Liberia',\n",
       " 'Libya',\n",
       " 'Maldives',\n",
       " 'Malta',\n",
       " 'Mauritius',\n",
       " 'Micronesia',\n",
       " 'Morocco',\n",
       " 'Myanmar',\n",
       " 'Nigeria',\n",
       " 'Oman',\n",
       " 'Qatar',\n",
       " 'Saint Kitts and Nevis',\n",
       " 'Saint Lucia',\n",
       " 'Saint Martin',\n",
       " 'Samoa',\n",
       " 'Sao Tome and Principe',\n",
       " 'Seychelles',\n",
       " 'Solomon Islands',\n",
       " 'Sri Lanka',\n",
       " 'Sudan',\n",
       " 'Trinidad and Tobago',\n",
       " 'Turkey',\n",
       " 'Turks and Caicos Islands',\n",
       " 'Tuvalu',\n",
       " 'Vanuatu'}"
      ]
     },
     "execution_count": 46,
     "metadata": {},
     "output_type": "execute_result"
    }
   ],
   "source": [
    "set(mpa.country) - set(df_104.country)"
   ]
  },
  {
   "cell_type": "code",
   "execution_count": 50,
   "metadata": {},
   "outputs": [],
   "source": [
    "df_104.to_csv(\"df_104.csv\", index = False)"
   ]
  },
  {
   "cell_type": "code",
   "execution_count": null,
   "metadata": {},
   "outputs": [],
   "source": []
  }
 ],
 "metadata": {
  "kernelspec": {
   "display_name": "Python 3",
   "language": "python",
   "name": "python3"
  },
  "language_info": {
   "codemirror_mode": {
    "name": "ipython",
    "version": 3
   },
   "file_extension": ".py",
   "mimetype": "text/x-python",
   "name": "python",
   "nbconvert_exporter": "python",
   "pygments_lexer": "ipython3",
   "version": "3.6.5"
  }
 },
 "nbformat": 4,
 "nbformat_minor": 2
}
