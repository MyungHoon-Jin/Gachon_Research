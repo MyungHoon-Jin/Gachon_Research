{
 "cells": [
  {
   "cell_type": "markdown",
   "metadata": {},
   "source": [
    "# 마린 데이터 설명"
   ]
  },
  {
   "cell_type": "code",
   "execution_count": 1,
   "metadata": {},
   "outputs": [],
   "source": [
    "import numpy as np\n",
    "import pandas as pd\n",
    "import matplotlib.pyplot as plt\n",
    "import matplotlib\n",
    "%matplotlib inline\n",
    "\n",
    "from matplotlib import font_manager, rc\n",
    "font_name = font_manager.FontProperties(fname=\"c:/Windows/Fonts/malgun.ttf\").get_name()\n",
    "rc('font', family=font_name)\n",
    "matplotlib.rcParams['axes.unicode_minus']=False"
   ]
  },
  {
   "cell_type": "code",
   "execution_count": 2,
   "metadata": {},
   "outputs": [
    {
     "data": {
      "text/html": [
       "<div>\n",
       "<style scoped>\n",
       "    .dataframe tbody tr th:only-of-type {\n",
       "        vertical-align: middle;\n",
       "    }\n",
       "\n",
       "    .dataframe tbody tr th {\n",
       "        vertical-align: top;\n",
       "    }\n",
       "\n",
       "    .dataframe thead th {\n",
       "        text-align: right;\n",
       "    }\n",
       "</style>\n",
       "<table border=\"1\" class=\"dataframe\">\n",
       "  <thead>\n",
       "    <tr style=\"text-align: right;\">\n",
       "      <th></th>\n",
       "      <th>code</th>\n",
       "      <th>iso</th>\n",
       "      <th>country</th>\n",
       "      <th>1990</th>\n",
       "      <th>1991</th>\n",
       "      <th>1992</th>\n",
       "      <th>1993</th>\n",
       "      <th>1994</th>\n",
       "      <th>1995</th>\n",
       "      <th>1996</th>\n",
       "      <th>...</th>\n",
       "      <th>2006</th>\n",
       "      <th>2007</th>\n",
       "      <th>2008</th>\n",
       "      <th>2009</th>\n",
       "      <th>2010</th>\n",
       "      <th>2011</th>\n",
       "      <th>2012</th>\n",
       "      <th>2013</th>\n",
       "      <th>2014</th>\n",
       "      <th>2015</th>\n",
       "    </tr>\n",
       "  </thead>\n",
       "  <tbody>\n",
       "    <tr>\n",
       "      <th>0</th>\n",
       "      <td>4</td>\n",
       "      <td>AFG</td>\n",
       "      <td>Afghanistan</td>\n",
       "      <td>-9999.0000</td>\n",
       "      <td>-9999.0000</td>\n",
       "      <td>-9999.0000</td>\n",
       "      <td>-9999.0000</td>\n",
       "      <td>-9999.0000</td>\n",
       "      <td>-9999.0000</td>\n",
       "      <td>-9999.0000</td>\n",
       "      <td>...</td>\n",
       "      <td>-9999.0000</td>\n",
       "      <td>-9999.0000</td>\n",
       "      <td>-9999.0000</td>\n",
       "      <td>-9999.0000</td>\n",
       "      <td>-9999.0000</td>\n",
       "      <td>-9999.0000</td>\n",
       "      <td>-9999.0000</td>\n",
       "      <td>-9999.0000</td>\n",
       "      <td>-9999.0000</td>\n",
       "      <td>-9999.0000</td>\n",
       "    </tr>\n",
       "    <tr>\n",
       "      <th>1</th>\n",
       "      <td>8</td>\n",
       "      <td>ALB</td>\n",
       "      <td>Albania</td>\n",
       "      <td>0.0000</td>\n",
       "      <td>0.0000</td>\n",
       "      <td>0.0000</td>\n",
       "      <td>0.0000</td>\n",
       "      <td>0.0000</td>\n",
       "      <td>0.0000</td>\n",
       "      <td>0.3830</td>\n",
       "      <td>...</td>\n",
       "      <td>0.8138</td>\n",
       "      <td>0.8138</td>\n",
       "      <td>0.8138</td>\n",
       "      <td>0.8138</td>\n",
       "      <td>0.8138</td>\n",
       "      <td>0.8138</td>\n",
       "      <td>0.8138</td>\n",
       "      <td>0.8138</td>\n",
       "      <td>0.8138</td>\n",
       "      <td>0.8138</td>\n",
       "    </tr>\n",
       "    <tr>\n",
       "      <th>2</th>\n",
       "      <td>12</td>\n",
       "      <td>DZA</td>\n",
       "      <td>Algeria</td>\n",
       "      <td>0.0175</td>\n",
       "      <td>0.0175</td>\n",
       "      <td>0.0175</td>\n",
       "      <td>0.0175</td>\n",
       "      <td>0.0175</td>\n",
       "      <td>0.0175</td>\n",
       "      <td>0.0175</td>\n",
       "      <td>...</td>\n",
       "      <td>0.0376</td>\n",
       "      <td>0.0376</td>\n",
       "      <td>0.0376</td>\n",
       "      <td>0.0376</td>\n",
       "      <td>0.0376</td>\n",
       "      <td>0.0376</td>\n",
       "      <td>0.0381</td>\n",
       "      <td>0.0381</td>\n",
       "      <td>0.0381</td>\n",
       "      <td>0.0381</td>\n",
       "    </tr>\n",
       "    <tr>\n",
       "      <th>3</th>\n",
       "      <td>16</td>\n",
       "      <td>ASM</td>\n",
       "      <td>American Samoa</td>\n",
       "      <td>8.6824</td>\n",
       "      <td>8.6824</td>\n",
       "      <td>8.6824</td>\n",
       "      <td>8.6824</td>\n",
       "      <td>8.6824</td>\n",
       "      <td>8.6824</td>\n",
       "      <td>8.6824</td>\n",
       "      <td>...</td>\n",
       "      <td>8.6824</td>\n",
       "      <td>8.6824</td>\n",
       "      <td>8.6824</td>\n",
       "      <td>8.6824</td>\n",
       "      <td>8.6840</td>\n",
       "      <td>8.6840</td>\n",
       "      <td>8.6840</td>\n",
       "      <td>8.6840</td>\n",
       "      <td>8.6840</td>\n",
       "      <td>8.6840</td>\n",
       "    </tr>\n",
       "    <tr>\n",
       "      <th>4</th>\n",
       "      <td>20</td>\n",
       "      <td>AND</td>\n",
       "      <td>Andorra</td>\n",
       "      <td>-9999.0000</td>\n",
       "      <td>-9999.0000</td>\n",
       "      <td>-9999.0000</td>\n",
       "      <td>-9999.0000</td>\n",
       "      <td>-9999.0000</td>\n",
       "      <td>-9999.0000</td>\n",
       "      <td>-9999.0000</td>\n",
       "      <td>...</td>\n",
       "      <td>-9999.0000</td>\n",
       "      <td>-9999.0000</td>\n",
       "      <td>-9999.0000</td>\n",
       "      <td>-9999.0000</td>\n",
       "      <td>-9999.0000</td>\n",
       "      <td>-9999.0000</td>\n",
       "      <td>-9999.0000</td>\n",
       "      <td>-9999.0000</td>\n",
       "      <td>-9999.0000</td>\n",
       "      <td>-9999.0000</td>\n",
       "    </tr>\n",
       "  </tbody>\n",
       "</table>\n",
       "<p>5 rows × 29 columns</p>\n",
       "</div>"
      ],
      "text/plain": [
       "   code  iso         country       1990       1991       1992       1993  \\\n",
       "0     4  AFG     Afghanistan -9999.0000 -9999.0000 -9999.0000 -9999.0000   \n",
       "1     8  ALB         Albania     0.0000     0.0000     0.0000     0.0000   \n",
       "2    12  DZA         Algeria     0.0175     0.0175     0.0175     0.0175   \n",
       "3    16  ASM  American Samoa     8.6824     8.6824     8.6824     8.6824   \n",
       "4    20  AND         Andorra -9999.0000 -9999.0000 -9999.0000 -9999.0000   \n",
       "\n",
       "        1994       1995       1996    ...           2006       2007  \\\n",
       "0 -9999.0000 -9999.0000 -9999.0000    ...     -9999.0000 -9999.0000   \n",
       "1     0.0000     0.0000     0.3830    ...         0.8138     0.8138   \n",
       "2     0.0175     0.0175     0.0175    ...         0.0376     0.0376   \n",
       "3     8.6824     8.6824     8.6824    ...         8.6824     8.6824   \n",
       "4 -9999.0000 -9999.0000 -9999.0000    ...     -9999.0000 -9999.0000   \n",
       "\n",
       "        2008       2009       2010       2011       2012       2013  \\\n",
       "0 -9999.0000 -9999.0000 -9999.0000 -9999.0000 -9999.0000 -9999.0000   \n",
       "1     0.8138     0.8138     0.8138     0.8138     0.8138     0.8138   \n",
       "2     0.0376     0.0376     0.0376     0.0376     0.0381     0.0381   \n",
       "3     8.6824     8.6824     8.6840     8.6840     8.6840     8.6840   \n",
       "4 -9999.0000 -9999.0000 -9999.0000 -9999.0000 -9999.0000 -9999.0000   \n",
       "\n",
       "        2014       2015  \n",
       "0 -9999.0000 -9999.0000  \n",
       "1     0.8138     0.8138  \n",
       "2     0.0381     0.0381  \n",
       "3     8.6840     8.6840  \n",
       "4 -9999.0000 -9999.0000  \n",
       "\n",
       "[5 rows x 29 columns]"
      ]
     },
     "execution_count": 2,
     "metadata": {},
     "output_type": "execute_result"
    }
   ],
   "source": [
    "from openpyxl import load_workbook\n",
    "\n",
    "wb = load_workbook(\"marin.xlsx\")\n",
    "ws = wb['Sheet1']\n",
    "g = ws.rows\n",
    "cells = next(g)\n",
    "keys = []\n",
    "for cell in cells:\n",
    "    keys.append(cell.value)\n",
    "raw_data = []\n",
    "for row in g:\n",
    "    raw_data.append({ key : cell.value for key, cell in zip(keys, row)})\n",
    "df = pd.DataFrame(raw_data)\n",
    "a = [i for i in range(1990,2016)]\n",
    "a.extend([\"code\", \"country\", \"iso\"])\n",
    "df.columns = a\n",
    "li = [i for i in range(1990,2016)]\n",
    "li.insert(0, 'country')\n",
    "li.insert(0, 'iso')\n",
    "li.insert(0, 'code')\n",
    "df = df[li]\n",
    "df.head()"
   ]
  },
  {
   "cell_type": "code",
   "execution_count": 3,
   "metadata": {},
   "outputs": [
    {
     "data": {
      "text/plain": [
       "(233, 29)"
      ]
     },
     "execution_count": 3,
     "metadata": {},
     "output_type": "execute_result"
    }
   ],
   "source": [
    "df.shape"
   ]
  },
  {
   "cell_type": "markdown",
   "metadata": {},
   "source": [
    "## WorldBank"
   ]
  },
  {
   "cell_type": "code",
   "execution_count": 4,
   "metadata": {},
   "outputs": [
    {
     "data": {
      "text/html": [
       "<div>\n",
       "<style scoped>\n",
       "    .dataframe tbody tr th:only-of-type {\n",
       "        vertical-align: middle;\n",
       "    }\n",
       "\n",
       "    .dataframe tbody tr th {\n",
       "        vertical-align: top;\n",
       "    }\n",
       "\n",
       "    .dataframe thead th {\n",
       "        text-align: right;\n",
       "    }\n",
       "</style>\n",
       "<table border=\"1\" class=\"dataframe\">\n",
       "  <thead>\n",
       "    <tr style=\"text-align: right;\">\n",
       "      <th></th>\n",
       "      <th>Code</th>\n",
       "      <th>Economy</th>\n",
       "      <th>Income group</th>\n",
       "      <th>Region</th>\n",
       "    </tr>\n",
       "  </thead>\n",
       "  <tbody>\n",
       "    <tr>\n",
       "      <th>0</th>\n",
       "      <td>AFG</td>\n",
       "      <td>Afghanistan</td>\n",
       "      <td>Low income</td>\n",
       "      <td>South Asia</td>\n",
       "    </tr>\n",
       "    <tr>\n",
       "      <th>1</th>\n",
       "      <td>ALB</td>\n",
       "      <td>Albania</td>\n",
       "      <td>Upper middle income</td>\n",
       "      <td>Europe &amp; Central Asia</td>\n",
       "    </tr>\n",
       "    <tr>\n",
       "      <th>2</th>\n",
       "      <td>DZA</td>\n",
       "      <td>Algeria</td>\n",
       "      <td>Upper middle income</td>\n",
       "      <td>Middle East &amp; North Africa</td>\n",
       "    </tr>\n",
       "    <tr>\n",
       "      <th>3</th>\n",
       "      <td>ASM</td>\n",
       "      <td>American Samoa</td>\n",
       "      <td>Upper middle income</td>\n",
       "      <td>East Asia &amp; Pacific</td>\n",
       "    </tr>\n",
       "    <tr>\n",
       "      <th>4</th>\n",
       "      <td>AND</td>\n",
       "      <td>Andorra</td>\n",
       "      <td>High income</td>\n",
       "      <td>Europe &amp; Central Asia</td>\n",
       "    </tr>\n",
       "  </tbody>\n",
       "</table>\n",
       "</div>"
      ],
      "text/plain": [
       "  Code         Economy         Income group                      Region\n",
       "0  AFG     Afghanistan           Low income                  South Asia\n",
       "1  ALB         Albania  Upper middle income       Europe & Central Asia\n",
       "2  DZA         Algeria  Upper middle income  Middle East & North Africa\n",
       "3  ASM  American Samoa  Upper middle income         East Asia & Pacific\n",
       "4  AND         Andorra          High income       Europe & Central Asia"
      ]
     },
     "execution_count": 4,
     "metadata": {},
     "output_type": "execute_result"
    }
   ],
   "source": [
    "wb = load_workbook(\"worldbank.xlsx\")\n",
    "ws = wb.active\n",
    "g = ws.rows\n",
    "cells = next(g)\n",
    "keys = [cell.value for cell in cells]\n",
    "raw_data = []\n",
    "for row in g:\n",
    "    raw_data.append({ key : cell.value for key, cell in zip(keys, row)})\n",
    "bank = pd.DataFrame(raw_data)\n",
    "bank.head()"
   ]
  },
  {
   "cell_type": "code",
   "execution_count": 5,
   "metadata": {},
   "outputs": [
    {
     "data": {
      "text/html": [
       "<div>\n",
       "<style scoped>\n",
       "    .dataframe tbody tr th:only-of-type {\n",
       "        vertical-align: middle;\n",
       "    }\n",
       "\n",
       "    .dataframe tbody tr th {\n",
       "        vertical-align: top;\n",
       "    }\n",
       "\n",
       "    .dataframe thead th {\n",
       "        text-align: right;\n",
       "    }\n",
       "</style>\n",
       "<table border=\"1\" class=\"dataframe\">\n",
       "  <thead>\n",
       "    <tr style=\"text-align: right;\">\n",
       "      <th></th>\n",
       "      <th>code</th>\n",
       "      <th>iso</th>\n",
       "      <th>country</th>\n",
       "      <th>1990</th>\n",
       "      <th>1991</th>\n",
       "      <th>1992</th>\n",
       "      <th>1993</th>\n",
       "      <th>1994</th>\n",
       "      <th>1995</th>\n",
       "      <th>1996</th>\n",
       "      <th>...</th>\n",
       "      <th>2009</th>\n",
       "      <th>2010</th>\n",
       "      <th>2011</th>\n",
       "      <th>2012</th>\n",
       "      <th>2013</th>\n",
       "      <th>2014</th>\n",
       "      <th>2015</th>\n",
       "      <th>Code</th>\n",
       "      <th>Income group</th>\n",
       "      <th>Region</th>\n",
       "    </tr>\n",
       "  </thead>\n",
       "  <tbody>\n",
       "    <tr>\n",
       "      <th>0</th>\n",
       "      <td>4</td>\n",
       "      <td>AFG</td>\n",
       "      <td>Afghanistan</td>\n",
       "      <td>-9999.0000</td>\n",
       "      <td>-9999.0000</td>\n",
       "      <td>-9999.0000</td>\n",
       "      <td>-9999.0000</td>\n",
       "      <td>-9999.0000</td>\n",
       "      <td>-9999.0000</td>\n",
       "      <td>-9999.0000</td>\n",
       "      <td>...</td>\n",
       "      <td>-9999.0000</td>\n",
       "      <td>-9999.0000</td>\n",
       "      <td>-9999.0000</td>\n",
       "      <td>-9999.0000</td>\n",
       "      <td>-9999.0000</td>\n",
       "      <td>-9999.0000</td>\n",
       "      <td>-9999.0000</td>\n",
       "      <td>AFG</td>\n",
       "      <td>Low income</td>\n",
       "      <td>South Asia</td>\n",
       "    </tr>\n",
       "    <tr>\n",
       "      <th>1</th>\n",
       "      <td>8</td>\n",
       "      <td>ALB</td>\n",
       "      <td>Albania</td>\n",
       "      <td>0.0000</td>\n",
       "      <td>0.0000</td>\n",
       "      <td>0.0000</td>\n",
       "      <td>0.0000</td>\n",
       "      <td>0.0000</td>\n",
       "      <td>0.0000</td>\n",
       "      <td>0.3830</td>\n",
       "      <td>...</td>\n",
       "      <td>0.8138</td>\n",
       "      <td>0.8138</td>\n",
       "      <td>0.8138</td>\n",
       "      <td>0.8138</td>\n",
       "      <td>0.8138</td>\n",
       "      <td>0.8138</td>\n",
       "      <td>0.8138</td>\n",
       "      <td>ALB</td>\n",
       "      <td>Upper middle income</td>\n",
       "      <td>Europe &amp; Central Asia</td>\n",
       "    </tr>\n",
       "    <tr>\n",
       "      <th>2</th>\n",
       "      <td>12</td>\n",
       "      <td>DZA</td>\n",
       "      <td>Algeria</td>\n",
       "      <td>0.0175</td>\n",
       "      <td>0.0175</td>\n",
       "      <td>0.0175</td>\n",
       "      <td>0.0175</td>\n",
       "      <td>0.0175</td>\n",
       "      <td>0.0175</td>\n",
       "      <td>0.0175</td>\n",
       "      <td>...</td>\n",
       "      <td>0.0376</td>\n",
       "      <td>0.0376</td>\n",
       "      <td>0.0376</td>\n",
       "      <td>0.0381</td>\n",
       "      <td>0.0381</td>\n",
       "      <td>0.0381</td>\n",
       "      <td>0.0381</td>\n",
       "      <td>DZA</td>\n",
       "      <td>Upper middle income</td>\n",
       "      <td>Middle East &amp; North Africa</td>\n",
       "    </tr>\n",
       "    <tr>\n",
       "      <th>3</th>\n",
       "      <td>16</td>\n",
       "      <td>ASM</td>\n",
       "      <td>American Samoa</td>\n",
       "      <td>8.6824</td>\n",
       "      <td>8.6824</td>\n",
       "      <td>8.6824</td>\n",
       "      <td>8.6824</td>\n",
       "      <td>8.6824</td>\n",
       "      <td>8.6824</td>\n",
       "      <td>8.6824</td>\n",
       "      <td>...</td>\n",
       "      <td>8.6824</td>\n",
       "      <td>8.6840</td>\n",
       "      <td>8.6840</td>\n",
       "      <td>8.6840</td>\n",
       "      <td>8.6840</td>\n",
       "      <td>8.6840</td>\n",
       "      <td>8.6840</td>\n",
       "      <td>ASM</td>\n",
       "      <td>Upper middle income</td>\n",
       "      <td>East Asia &amp; Pacific</td>\n",
       "    </tr>\n",
       "    <tr>\n",
       "      <th>4</th>\n",
       "      <td>20</td>\n",
       "      <td>AND</td>\n",
       "      <td>Andorra</td>\n",
       "      <td>-9999.0000</td>\n",
       "      <td>-9999.0000</td>\n",
       "      <td>-9999.0000</td>\n",
       "      <td>-9999.0000</td>\n",
       "      <td>-9999.0000</td>\n",
       "      <td>-9999.0000</td>\n",
       "      <td>-9999.0000</td>\n",
       "      <td>...</td>\n",
       "      <td>-9999.0000</td>\n",
       "      <td>-9999.0000</td>\n",
       "      <td>-9999.0000</td>\n",
       "      <td>-9999.0000</td>\n",
       "      <td>-9999.0000</td>\n",
       "      <td>-9999.0000</td>\n",
       "      <td>-9999.0000</td>\n",
       "      <td>AND</td>\n",
       "      <td>High income</td>\n",
       "      <td>Europe &amp; Central Asia</td>\n",
       "    </tr>\n",
       "  </tbody>\n",
       "</table>\n",
       "<p>5 rows × 32 columns</p>\n",
       "</div>"
      ],
      "text/plain": [
       "   code  iso         country       1990       1991       1992       1993  \\\n",
       "0     4  AFG     Afghanistan -9999.0000 -9999.0000 -9999.0000 -9999.0000   \n",
       "1     8  ALB         Albania     0.0000     0.0000     0.0000     0.0000   \n",
       "2    12  DZA         Algeria     0.0175     0.0175     0.0175     0.0175   \n",
       "3    16  ASM  American Samoa     8.6824     8.6824     8.6824     8.6824   \n",
       "4    20  AND         Andorra -9999.0000 -9999.0000 -9999.0000 -9999.0000   \n",
       "\n",
       "        1994       1995       1996             ...                   2009  \\\n",
       "0 -9999.0000 -9999.0000 -9999.0000             ...             -9999.0000   \n",
       "1     0.0000     0.0000     0.3830             ...                 0.8138   \n",
       "2     0.0175     0.0175     0.0175             ...                 0.0376   \n",
       "3     8.6824     8.6824     8.6824             ...                 8.6824   \n",
       "4 -9999.0000 -9999.0000 -9999.0000             ...             -9999.0000   \n",
       "\n",
       "        2010       2011       2012       2013       2014       2015  Code  \\\n",
       "0 -9999.0000 -9999.0000 -9999.0000 -9999.0000 -9999.0000 -9999.0000   AFG   \n",
       "1     0.8138     0.8138     0.8138     0.8138     0.8138     0.8138   ALB   \n",
       "2     0.0376     0.0376     0.0381     0.0381     0.0381     0.0381   DZA   \n",
       "3     8.6840     8.6840     8.6840     8.6840     8.6840     8.6840   ASM   \n",
       "4 -9999.0000 -9999.0000 -9999.0000 -9999.0000 -9999.0000 -9999.0000   AND   \n",
       "\n",
       "          Income group                      Region  \n",
       "0           Low income                  South Asia  \n",
       "1  Upper middle income       Europe & Central Asia  \n",
       "2  Upper middle income  Middle East & North Africa  \n",
       "3  Upper middle income         East Asia & Pacific  \n",
       "4          High income       Europe & Central Asia  \n",
       "\n",
       "[5 rows x 32 columns]"
      ]
     },
     "execution_count": 5,
     "metadata": {},
     "output_type": "execute_result"
    }
   ],
   "source": [
    "mpa = pd.merge(df, bank[['Code','Income group', 'Region']], left_on = 'iso', right_on = 'Code')\n",
    "mpa.head()"
   ]
  },
  {
   "cell_type": "code",
   "execution_count": 6,
   "metadata": {},
   "outputs": [
    {
     "data": {
      "text/plain": [
       "(215, 32)"
      ]
     },
     "execution_count": 6,
     "metadata": {},
     "output_type": "execute_result"
    }
   ],
   "source": [
    "mpa.shape"
   ]
  },
  {
   "cell_type": "code",
   "execution_count": 7,
   "metadata": {},
   "outputs": [
    {
     "data": {
      "text/plain": [
       "(18,\n",
       " array({'Mayotte', 'Svalbard and Jan Mayen Islands', 'Martinique', 'French Guiana', 'Niue', 'Reunion', 'Holy See', 'Falkland Islands', 'Cook Islands', 'Guadeloupe', 'Saint Pierre and Miquelon', 'Montserrat', 'Wallis and Futuna', 'Norfolk Island', 'Saint Helena', 'Anguilla', 'Pitcairn', 'Tokelau'},\n",
       "       dtype=object))"
      ]
     },
     "execution_count": 7,
     "metadata": {},
     "output_type": "execute_result"
    }
   ],
   "source": [
    "mismatching_country = set(df.country) - set(mpa.country)\n",
    "len(mismatching_country), np.array(mismatching_country)"
   ]
  },
  {
   "cell_type": "markdown",
   "metadata": {},
   "source": [
    "## except -9999"
   ]
  },
  {
   "cell_type": "code",
   "execution_count": 8,
   "metadata": {},
   "outputs": [
    {
     "data": {
      "text/plain": [
       "(47, array(['Afghanistan', 'Andorra', 'Armenia', 'Aruba', 'Austria', 'Belarus',\n",
       "        'Bhutan', 'Bolivia', 'Botswana', 'Burkina Faso', 'Burundi',\n",
       "        'Central African Republic', 'Chad', 'Curacao', 'Czech Republic',\n",
       "        'Ethiopia', 'Guam', 'Hong Kong', 'Hungary', 'Isle of Man',\n",
       "        'Kyrgyz Republic', 'Laos', 'Lesotho', 'Liechtenstein',\n",
       "        'Luxembourg', 'Macao', 'Macedonia', 'Malawi', 'Mali', 'Moldova',\n",
       "        'Mongolia', 'Nepal', 'Niger', 'Paraguay', 'Rwanda', 'San Marino',\n",
       "        'Serbia', 'Slovakia', 'South Sudan', 'Palestine', 'Swaziland',\n",
       "        'Switzerland', 'Tajikistan', 'Uganda', 'Uzbekistan', 'Zambia',\n",
       "        'Zimbabwe'], dtype=object))"
      ]
     },
     "execution_count": 8,
     "metadata": {},
     "output_type": "execute_result"
    }
   ],
   "source": [
    "except_9999 = mpa[mpa[mpa.columns[3:]].mean(axis=1) < -5000]\n",
    "except_9999_list = except_9999.country.values\n",
    "\n",
    "len(except_9999_list), except_9999_list"
   ]
  },
  {
   "cell_type": "code",
   "execution_count": 9,
   "metadata": {},
   "outputs": [
    {
     "data": {
      "text/plain": [
       "(168, 32)"
      ]
     },
     "execution_count": 9,
     "metadata": {},
     "output_type": "execute_result"
    }
   ],
   "source": [
    "mpa = mpa[mpa[mpa.columns[3:]].mean(axis=1) > -5000]\n",
    "mpa.shape"
   ]
  },
  {
   "cell_type": "markdown",
   "metadata": {},
   "source": [
    "## except 0"
   ]
  },
  {
   "cell_type": "code",
   "execution_count": 10,
   "metadata": {},
   "outputs": [
    {
     "data": {
      "text/plain": [
       "(17, array(['Azerbaijan', 'Benin', 'Bosnia and Herzegovina', 'Cape Verde',\n",
       "        'Cyprus', 'Eritrea', 'The Gambia', 'Guyana', 'Haiti', 'Iraq',\n",
       "        'Kazakhstan', 'Montenegro', 'Nauru', 'North Korea', 'Somalia',\n",
       "        'Togo', 'Turkmenistan'], dtype=object))"
      ]
     },
     "execution_count": 10,
     "metadata": {},
     "output_type": "execute_result"
    }
   ],
   "source": [
    "import sys\n",
    "ep = sys.float_info.epsilon\n",
    "\n",
    "except_0 = mpa[mpa[mpa.columns[3:]].mean(axis=1) < ep]\n",
    "except_0_list = except_0.country.values\n",
    "\n",
    "len(except_0_list), except_0_list"
   ]
  },
  {
   "cell_type": "code",
   "execution_count": 11,
   "metadata": {},
   "outputs": [
    {
     "data": {
      "text/plain": [
       "(151, 32)"
      ]
     },
     "execution_count": 11,
     "metadata": {},
     "output_type": "execute_result"
    }
   ],
   "source": [
    "mpa = mpa[mpa[mpa.columns[3:]].mean(axis=1) > ep]\n",
    "mpa.shape"
   ]
  },
  {
   "cell_type": "code",
   "execution_count": 12,
   "metadata": {},
   "outputs": [],
   "source": [
    "import convergence"
   ]
  },
  {
   "cell_type": "code",
   "execution_count": 13,
   "metadata": {},
   "outputs": [
    {
     "data": {
      "text/html": [
       "<div>\n",
       "<style scoped>\n",
       "    .dataframe tbody tr th:only-of-type {\n",
       "        vertical-align: middle;\n",
       "    }\n",
       "\n",
       "    .dataframe tbody tr th {\n",
       "        vertical-align: top;\n",
       "    }\n",
       "\n",
       "    .dataframe thead th {\n",
       "        text-align: right;\n",
       "    }\n",
       "</style>\n",
       "<table border=\"1\" class=\"dataframe\">\n",
       "  <thead>\n",
       "    <tr style=\"text-align: right;\">\n",
       "      <th></th>\n",
       "      <th>code</th>\n",
       "      <th>iso</th>\n",
       "      <th>country</th>\n",
       "      <th>1990</th>\n",
       "      <th>1991</th>\n",
       "      <th>1992</th>\n",
       "      <th>1993</th>\n",
       "      <th>1994</th>\n",
       "      <th>1995</th>\n",
       "      <th>1996</th>\n",
       "      <th>...</th>\n",
       "      <th>2009</th>\n",
       "      <th>2010</th>\n",
       "      <th>2011</th>\n",
       "      <th>2012</th>\n",
       "      <th>2013</th>\n",
       "      <th>2014</th>\n",
       "      <th>2015</th>\n",
       "      <th>Code</th>\n",
       "      <th>Income group</th>\n",
       "      <th>Region</th>\n",
       "    </tr>\n",
       "  </thead>\n",
       "  <tbody>\n",
       "    <tr>\n",
       "      <th>1</th>\n",
       "      <td>8</td>\n",
       "      <td>ALB</td>\n",
       "      <td>Albania</td>\n",
       "      <td>0.0000</td>\n",
       "      <td>0.0000</td>\n",
       "      <td>0.0000</td>\n",
       "      <td>0.0000</td>\n",
       "      <td>0.0000</td>\n",
       "      <td>0.0000</td>\n",
       "      <td>0.3830</td>\n",
       "      <td>...</td>\n",
       "      <td>0.8138</td>\n",
       "      <td>0.8138</td>\n",
       "      <td>0.8138</td>\n",
       "      <td>0.8138</td>\n",
       "      <td>0.8138</td>\n",
       "      <td>0.8138</td>\n",
       "      <td>0.8138</td>\n",
       "      <td>ALB</td>\n",
       "      <td>Upper middle income</td>\n",
       "      <td>Europe &amp; Central Asia</td>\n",
       "    </tr>\n",
       "    <tr>\n",
       "      <th>2</th>\n",
       "      <td>12</td>\n",
       "      <td>DZA</td>\n",
       "      <td>Algeria</td>\n",
       "      <td>0.0175</td>\n",
       "      <td>0.0175</td>\n",
       "      <td>0.0175</td>\n",
       "      <td>0.0175</td>\n",
       "      <td>0.0175</td>\n",
       "      <td>0.0175</td>\n",
       "      <td>0.0175</td>\n",
       "      <td>...</td>\n",
       "      <td>0.0376</td>\n",
       "      <td>0.0376</td>\n",
       "      <td>0.0376</td>\n",
       "      <td>0.0381</td>\n",
       "      <td>0.0381</td>\n",
       "      <td>0.0381</td>\n",
       "      <td>0.0381</td>\n",
       "      <td>DZA</td>\n",
       "      <td>Upper middle income</td>\n",
       "      <td>Middle East &amp; North Africa</td>\n",
       "    </tr>\n",
       "  </tbody>\n",
       "</table>\n",
       "<p>2 rows × 32 columns</p>\n",
       "</div>"
      ],
      "text/plain": [
       "   code  iso  country    1990    1991    1992    1993    1994    1995    1996  \\\n",
       "1     8  ALB  Albania  0.0000  0.0000  0.0000  0.0000  0.0000  0.0000  0.3830   \n",
       "2    12  DZA  Algeria  0.0175  0.0175  0.0175  0.0175  0.0175  0.0175  0.0175   \n",
       "\n",
       "              ...                2009    2010    2011    2012    2013    2014  \\\n",
       "1             ...              0.8138  0.8138  0.8138  0.8138  0.8138  0.8138   \n",
       "2             ...              0.0376  0.0376  0.0376  0.0381  0.0381  0.0381   \n",
       "\n",
       "     2015  Code         Income group                      Region  \n",
       "1  0.8138   ALB  Upper middle income       Europe & Central Asia  \n",
       "2  0.0381   DZA  Upper middle income  Middle East & North Africa  \n",
       "\n",
       "[2 rows x 32 columns]"
      ]
     },
     "execution_count": 13,
     "metadata": {},
     "output_type": "execute_result"
    }
   ],
   "source": [
    "mpa.head(2)"
   ]
  },
  {
   "cell_type": "code",
   "execution_count": 14,
   "metadata": {},
   "outputs": [],
   "source": [
    "mpa2 = mpa[mpa[mpa.columns[3:]].mean(axis=1) > 0.1] # 1990~2015 데이터의 평균이 .1 이상\n",
    "mpa3 = mpa[mpa[mpa.columns[3:]].mean(axis=1) > 0.5] # 1990~2015 데이터의 평균이 .5 이상"
   ]
  },
  {
   "cell_type": "code",
   "execution_count": 15,
   "metadata": {},
   "outputs": [
    {
     "data": {
      "text/plain": [
       "((104, 32), (71, 32))"
      ]
     },
     "execution_count": 15,
     "metadata": {},
     "output_type": "execute_result"
    }
   ],
   "source": [
    "mpa2.shape, mpa3.shape"
   ]
  },
  {
   "cell_type": "code",
   "execution_count": null,
   "metadata": {},
   "outputs": [],
   "source": []
  }
 ],
 "metadata": {
  "kernelspec": {
   "display_name": "Python 3",
   "language": "python",
   "name": "python3"
  },
  "language_info": {
   "codemirror_mode": {
    "name": "ipython",
    "version": 3
   },
   "file_extension": ".py",
   "mimetype": "text/x-python",
   "name": "python",
   "nbconvert_exporter": "python",
   "pygments_lexer": "ipython3",
   "version": "3.6.5"
  }
 },
 "nbformat": 4,
 "nbformat_minor": 2
}
